{
 "cells": [
  {
   "cell_type": "code",
   "execution_count": null,
   "id": "00a528b9",
   "metadata": {},
   "outputs": [],
   "source": [
    "# Task 5 :Create a feature to translate the language with a combination of two languages at the same time . \n",
    "#We should be able to convert the 2 different languages at the same time .\n",
    "#translate English to French and Hindi at the same time . This model should work only for 10 letter English words . \n",
    "#If we enter below 10 letters or above 10 letters it should not work."
   ]
  },
  {
   "cell_type": "code",
   "execution_count": null,
   "id": "68fcb46c",
   "metadata": {},
   "outputs": [],
   "source": [
    "#library installation\n",
    "!pip install googletrans==4.0.0-rc1"
   ]
  },
  {
   "cell_type": "code",
   "execution_count": null,
   "id": "34cb428d",
   "metadata": {},
   "outputs": [],
   "source": [
    "#import library\n",
    "from googletrans import Translator\n",
    "import regex as re"
   ]
  },
  {
   "cell_type": "code",
   "execution_count": 6,
   "id": "7bd459d7",
   "metadata": {},
   "outputs": [],
   "source": [
    "#create function\n",
    "def translate_english_to_french_and_hindi(word):\n",
    "    # Check if the word has exactly ten letters\n",
    "    if len(word) != 10:\n",
    "        return \"Word should have exactly ten letters to translate.\"\n",
    "\n",
    "    # Initialize translator\n",
    "    translator = Translator()\n",
    "\n",
    "    # Translate English word to French and Hindi\n",
    "    try:\n",
    "        translation_fr = translator.translate(word, src='en', dest='fr').text\n",
    "        translation_hi = translator.translate(word, src='en', dest='hi').text\n",
    "        return {\n",
    "            'French': translation_fr,\n",
    "            'Hindi': translation_hi\n",
    "        }\n",
    "    except Exception as e:\n",
    "        return str(e)"
   ]
  },
  {
   "cell_type": "code",
   "execution_count": 7,
   "id": "a696d425",
   "metadata": {},
   "outputs": [
    {
     "name": "stdout",
     "output_type": "stream",
     "text": [
      "Enter an English word with exactly ten letters: beautifull\n"
     ]
    }
   ],
   "source": [
    "# input statement\n",
    "english_word = input(\"Enter an English word with exactly ten letters: \").strip().lower()\n",
    "\n"
   ]
  },
  {
   "cell_type": "code",
   "execution_count": 8,
   "id": "0de7353c",
   "metadata": {},
   "outputs": [
    {
     "name": "stdout",
     "output_type": "stream",
     "text": [
      "Translations:\n",
      "French: magnifique\n",
      "Hindi: सुंदर\n"
     ]
    }
   ],
   "source": [
    "# Check if the input word \n",
    "if re.match(r'^[a-z]+$', english_word):\n",
    "    translations = translate_english_to_french_and_hindi(english_word)\n",
    "    print(\"Translations:\")\n",
    "    for lang, translation in translations.items():\n",
    "        print(f\"{lang}: {translation}\")\n",
    "else: \n",
    "    print(\"Input should contain only letters.\")"
   ]
  },
  {
   "cell_type": "code",
   "execution_count": null,
   "id": "66ced4e4",
   "metadata": {},
   "outputs": [],
   "source": []
  },
  {
   "cell_type": "code",
   "execution_count": null,
   "id": "20a84723",
   "metadata": {},
   "outputs": [],
   "source": [
    "####################python gui#################################\n",
    "import tkinter as tk\n",
    "from tkinter import messagebox\n",
    "from googletrans import Translator\n",
    "import regex as re\n",
    "\n",
    "# Function to translate English word to French and Hindi\n",
    "def translate_english_to_french_and_hindi(word):\n",
    "    # Check if the word has exactly ten letters\n",
    "    if len(word) != 10:\n",
    "        return \"Word should have exactly ten letters to translate.\"\n",
    "\n",
    "    # Initialize translator\n",
    "    translator = Translator()\n",
    "\n",
    "    # Translate English word to French and Hindi\n",
    "    try:\n",
    "        translation_fr = translator.translate(word, src='en', dest='fr').text\n",
    "        translation_hi = translator.translate(word, src='en', dest='hi').text\n",
    "        return {\n",
    "            'French': translation_fr,\n",
    "            'Hindi': translation_hi\n",
    "        }\n",
    "    except Exception as e:\n",
    "        return str(e)\n",
    "\n",
    "# Function to handle button click event\n",
    "def translate_word():\n",
    "    english_word = entry_word.get().strip().lower()\n",
    "\n",
    "    # Check if the input word contains only letters\n",
    "    if re.match(r'^[a-z]+$', english_word):\n",
    "        translations = translate_english_to_french_and_hindi(english_word)\n",
    "        messagebox.showinfo(\"Translations\", f\"French: {translations['French']}\\nHindi: {translations['Hindi']}\")\n",
    "    else:\n",
    "        messagebox.showerror(\"Error\", \"Input should contain only letters.\")\n",
    "\n",
    "# Create main application window\n",
    "root = tk.Tk()\n",
    "root.title(\"English to French and Hindi Translator\")\n",
    "\n",
    "# Create widgets\n",
    "label_prompt = tk.Label(root, text=\"Enter an English word with exactly ten letters:\")\n",
    "label_prompt.pack(pady=10)\n",
    "\n",
    "entry_word = tk.Entry(root, width=30)\n",
    "entry_word.pack()\n",
    "\n",
    "button_translate = tk.Button(root, text=\"Translate\", command=translate_word)\n",
    "button_translate.pack(pady=10)\n",
    "\n",
    "# Start the main loop\n",
    "root.mainloop()\n"
   ]
  },
  {
   "cell_type": "code",
   "execution_count": null,
   "id": "b938113d",
   "metadata": {},
   "outputs": [],
   "source": []
  }
 ],
 "metadata": {
  "kernelspec": {
   "display_name": "Python 3 (ipykernel)",
   "language": "python",
   "name": "python3"
  },
  "language_info": {
   "codemirror_mode": {
    "name": "ipython",
    "version": 3
   },
   "file_extension": ".py",
   "mimetype": "text/x-python",
   "name": "python",
   "nbconvert_exporter": "python",
   "pygments_lexer": "ipython3",
   "version": "3.9.13"
  }
 },
 "nbformat": 4,
 "nbformat_minor": 5
}
